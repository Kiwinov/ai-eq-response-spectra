{
 "cells": [
  {
   "cell_type": "markdown",
   "metadata": {
    "_uuid": "078572cd26bfb8a809b4464ba675fdb3cd418fa7",
    "id": "X1kTVWdsHVre"
   },
   "source": [
    "## Conditional GAN for EQ Response Spectra Prediction\n",
    "\n",
    "Uses 6 inputs (parameters related to the Earthquake) to generate 20 outputs (of the Response Spectrum)"
   ]
  },
  {
   "cell_type": "markdown",
   "metadata": {},
   "source": [
    "Response Spectrum of an Earthquake gives the Frequency-Domain signal of the accelerations faced by structures."
   ]
  },
  {
   "cell_type": "markdown",
   "metadata": {},
   "source": [
    "## 1. Load Libraries\n",
    "Load libraries and set the device on which computations will take place"
   ]
  },
  {
   "cell_type": "code",
   "execution_count": 42,
   "metadata": {
    "_cell_guid": "b1076dfc-b9ad-4769-8c92-a6c4dae69d19",
    "_uuid": "8f2839f25d086af736a60e9eeb907d3b93b6e0e5",
    "collapsed": true,
    "executionInfo": {
     "elapsed": 8247,
     "status": "ok",
     "timestamp": 1715698000409,
     "user": {
      "displayName": "Samarth K J ce22b099",
      "userId": "00126802875607193725"
     },
     "user_tz": -330
    },
    "id": "SDsgReeSHVrq",
    "trusted": true
   },
   "outputs": [],
   "source": [
    "# Importing all necessary libraries\n",
    "%matplotlib inline\n",
    "import torch\n",
    "import torch.nn as nn\n",
    "import pandas as pd\n",
    "import numpy as np\n",
    "import matplotlib.pyplot as plt\n",
    "from sklearn.preprocessing import StandardScaler\n",
    "import random\n",
    "\n",
    "from IPython.display import clear_output\n",
    "# To help with readability by reducing unnecessary output\n",
    "import os"
   ]
  },
  {
   "cell_type": "code",
   "execution_count": 5,
   "metadata": {
    "colab": {
     "base_uri": "https://localhost:8080/"
    },
    "executionInfo": {
     "elapsed": 7,
     "status": "ok",
     "timestamp": 1715698000410,
     "user": {
      "displayName": "Samarth K J ce22b099",
      "userId": "00126802875607193725"
     },
     "user_tz": -330
    },
    "id": "0ebiWj8iNOKC",
    "outputId": "95deeba2-a124-49c9-9466-4b7a581640df"
   },
   "outputs": [
    {
     "name": "stdout",
     "output_type": "stream",
     "text": [
      "Device: cpu\n"
     ]
    }
   ],
   "source": [
    "# Run this if you have an Nvidia GPU\n",
    "device = torch.device(\"cuda\" if torch.cuda.is_available() else \"cpu\")\n",
    "print(f\"Device: {device}\")"
   ]
  },
  {
   "cell_type": "code",
   "execution_count": 6,
   "metadata": {
    "executionInfo": {
     "elapsed": 6,
     "status": "ok",
     "timestamp": 1715698000410,
     "user": {
      "displayName": "Samarth K J ce22b099",
      "userId": "00126802875607193725"
     },
     "user_tz": -330
    },
    "id": "3kyVKjNANOKC"
   },
   "outputs": [
    {
     "name": "stdout",
     "output_type": "stream",
     "text": [
      "Device: mps\n"
     ]
    }
   ],
   "source": [
    "# Run this if it's a macbook\n",
    "device = \"mps\" if torch.backends.mps.is_available() else \"cpu\"\n",
    "# device='cpu'\n",
    "print(f\"Device: {device}\")"
   ]
  },
  {
   "cell_type": "code",
   "execution_count": 7,
   "metadata": {
    "executionInfo": {
     "elapsed": 5,
     "status": "ok",
     "timestamp": 1715698000410,
     "user": {
      "displayName": "Samarth K J ce22b099",
      "userId": "00126802875607193725"
     },
     "user_tz": -330
    },
    "id": "JuXNZluEJZWL"
   },
   "outputs": [],
   "source": [
    "# Paths for mat files with the real data\n",
    "input_path = \"../data/processed_accelerations\"\n",
    "output_path = \"../output/generated_accelerations\""
   ]
  },
  {
   "cell_type": "code",
   "execution_count": null,
   "metadata": {
    "colab": {
     "base_uri": "https://localhost:8080/"
    },
    "executionInfo": {
     "elapsed": 29500,
     "status": "ok",
     "timestamp": 1715698029906,
     "user": {
      "displayName": "Samarth K J ce22b099",
      "userId": "00126802875607193725"
     },
     "user_tz": -330
    },
    "id": "eVvT3m_FPwyu",
    "outputId": "a8a57dae-20ba-4314-f595-6b6de039b22a"
   },
   "outputs": [],
   "source": [
    "# from google.colab import drive\n",
    "# drive.mount('/content/drive')"
   ]
  },
  {
   "cell_type": "markdown",
   "metadata": {},
   "source": [
    "## 2. Load Data\n",
    "Load pre-processed data"
   ]
  },
  {
   "cell_type": "code",
   "execution_count": 43,
   "metadata": {
    "executionInfo": {
     "elapsed": 5,
     "status": "ok",
     "timestamp": 1715698029907,
     "user": {
      "displayName": "Samarth K J ce22b099",
      "userId": "00126802875607193725"
     },
     "user_tz": -330
    },
    "id": "dJBkR7RxNOKD"
   },
   "outputs": [],
   "source": [
    "os.makedirs(\"../models/intermediate\", exist_ok=True)\n",
    "CGAN_GENERATOR_PATH = (\n",
    "    \"../models/intermediate/CGAN_g_model.hdf5\"\n",
    ")\n",
    "CGAN_DISCRIMINATOR_PATH = (\n",
    "    \"../models/intermediate/CGAN_d_model.hdf5\"\n",
    ")\n",
    "\n",
    "os.makedirs(\"../output\", exist_ok=True)\n",
    "\n",
    "res = \"../output/results.csv\""
   ]
  },
  {
   "cell_type": "code",
   "execution_count": 9,
   "metadata": {},
   "outputs": [
    {
     "name": "stdout",
     "output_type": "stream",
     "text": [
      "Shape of X_train: (6834, 6)\n",
      "Shape of X_test: (1709, 6)\n",
      "Shape of y_train: (6834, 56)\n",
      "Shape of y_test: (1709, 56)\n"
     ]
    }
   ],
   "source": [
    "X_train = np.load(input_path + \"/X_train.npy\")\n",
    "X_test = np.load(input_path + \"/X_test.npy\")\n",
    "y_train = np.load(input_path + \"/y_train.npy\")\n",
    "y_test = np.load(input_path + \"/y_test.npy\")\n",
    "\n",
    "print(\"Shape of X_train:\", X_train.shape)\n",
    "print(\"Shape of X_test:\", X_test.shape)\n",
    "print(\"Shape of y_train:\", y_train.shape)\n",
    "print(\"Shape of y_test:\", y_test.shape)"
   ]
  },
  {
   "cell_type": "code",
   "execution_count": 10,
   "metadata": {},
   "outputs": [],
   "source": [
    "train_data = pd.DataFrame(X_train)\n",
    "train_labels = pd.DataFrame(y_train).abs()\n",
    "test_data = pd.DataFrame(X_test)\n",
    "test_labels = pd.DataFrame(y_test).abs()   "
   ]
  },
  {
   "cell_type": "markdown",
   "metadata": {},
   "source": [
    "## 3. Analyze and Transform Data"
   ]
  },
  {
   "cell_type": "code",
   "execution_count": 11,
   "metadata": {},
   "outputs": [
    {
     "name": "stdout",
     "output_type": "stream",
     "text": [
      "Min values:\n",
      " 0     0.000300\n",
      "1     0.000322\n",
      "2     0.000188\n",
      "3     0.000297\n",
      "4     0.000700\n",
      "5     0.000457\n",
      "6     0.000521\n",
      "7     0.001084\n",
      "8     0.000393\n",
      "9     0.000251\n",
      "10    0.000317\n",
      "11    0.000032\n",
      "12    0.000818\n",
      "13    0.000131\n",
      "14    0.000262\n",
      "15    0.000942\n",
      "16    0.000183\n",
      "17    0.001782\n",
      "18    0.000571\n",
      "19    0.000364\n",
      "20    0.000513\n",
      "21    0.000130\n",
      "22    0.000519\n",
      "23    0.000002\n",
      "24    0.000713\n",
      "25    0.000089\n",
      "26    0.000318\n",
      "27    0.000577\n",
      "28    0.000145\n",
      "29    0.000532\n",
      "30    0.000072\n",
      "31    0.000218\n",
      "32    0.000602\n",
      "33    0.000032\n",
      "34    0.000782\n",
      "35    0.000141\n",
      "36    0.000505\n",
      "37    0.000360\n",
      "38    0.000346\n",
      "39    0.000238\n",
      "40    0.000358\n",
      "41    0.001447\n",
      "42    0.001692\n",
      "43    0.005634\n",
      "44    0.000308\n",
      "45    0.000886\n",
      "46    0.003672\n",
      "47    0.020990\n",
      "48    0.047008\n",
      "49    0.003271\n",
      "50    0.156840\n",
      "51    0.333274\n",
      "52    0.912891\n",
      "53    1.074316\n",
      "54    0.891233\n",
      "55    1.095380\n",
      "dtype: float64\n",
      "Max values:\n",
      " 0     13.027053\n",
      "1     13.326931\n",
      "2     11.242898\n",
      "3      9.963238\n",
      "4      9.495359\n",
      "5      8.604905\n",
      "6      8.241738\n",
      "7      7.772923\n",
      "8      7.493969\n",
      "9      7.226530\n",
      "10     6.929854\n",
      "11     6.153052\n",
      "12     8.449119\n",
      "13     6.097965\n",
      "14     6.850480\n",
      "15     6.097965\n",
      "16     6.718560\n",
      "17     6.385095\n",
      "18     7.016610\n",
      "19     6.193396\n",
      "20     6.097965\n",
      "21     6.097965\n",
      "22     6.324889\n",
      "23     6.422201\n",
      "24     6.097965\n",
      "25     6.097965\n",
      "26     6.175384\n",
      "27     6.545302\n",
      "28     6.097965\n",
      "29     6.097965\n",
      "30     6.653610\n",
      "31     6.513452\n",
      "32     7.370439\n",
      "33     6.946903\n",
      "34     6.957612\n",
      "35     7.079923\n",
      "36     7.314143\n",
      "37     7.632003\n",
      "38     8.673999\n",
      "39    10.688750\n",
      "40    11.512925\n",
      "41    13.127376\n",
      "42    13.326931\n",
      "43    13.326931\n",
      "44    13.326931\n",
      "45    13.326931\n",
      "46    13.326931\n",
      "47    13.326931\n",
      "48    13.326931\n",
      "49    13.326931\n",
      "50    13.326931\n",
      "51    13.326931\n",
      "52    13.326931\n",
      "53    13.326931\n",
      "54    13.326931\n",
      "55    13.326931\n",
      "dtype: float64\n"
     ]
    }
   ],
   "source": [
    "print(\"Min values:\\n\", train_labels.min())\n",
    "print(\"Max values:\\n\", train_labels.max())"
   ]
  },
  {
   "cell_type": "markdown",
   "metadata": {},
   "source": [
    "Scale data to be normally distributed. Neural Networks work well with normally distributed data"
   ]
  },
  {
   "cell_type": "code",
   "execution_count": 12,
   "metadata": {
    "executionInfo": {
     "elapsed": 15,
     "status": "ok",
     "timestamp": 1715698034627,
     "user": {
      "displayName": "Samarth K J ce22b099",
      "userId": "00126802875607193725"
     },
     "user_tz": -330
    },
    "id": "Sb82gUI-NOKF"
   },
   "outputs": [],
   "source": [
    "scaler = StandardScaler()\n",
    "normalized_df = pd.DataFrame(\n",
    "    scaler.fit_transform(train_data), columns=train_data.columns\n",
    ")\n",
    "normalized_df_test = pd.DataFrame(scaler.transform(test_data), columns=test_data.columns)"
   ]
  },
  {
   "cell_type": "code",
   "execution_count": 13,
   "metadata": {
    "colab": {
     "base_uri": "https://localhost:8080/",
     "height": 424
    },
    "executionInfo": {
     "elapsed": 15,
     "status": "ok",
     "timestamp": 1715698034627,
     "user": {
      "displayName": "Samarth K J ce22b099",
      "userId": "00126802875607193725"
     },
     "user_tz": -330
    },
    "id": "uPo1uDxNNOKF",
    "outputId": "dcabe0f4-c8a9-4229-b69f-81afcf6ec6a0"
   },
   "outputs": [
    {
     "data": {
      "text/html": [
       "<div>\n",
       "<style scoped>\n",
       "    .dataframe tbody tr th:only-of-type {\n",
       "        vertical-align: middle;\n",
       "    }\n",
       "\n",
       "    .dataframe tbody tr th {\n",
       "        vertical-align: top;\n",
       "    }\n",
       "\n",
       "    .dataframe thead th {\n",
       "        text-align: right;\n",
       "    }\n",
       "</style>\n",
       "<table border=\"1\" class=\"dataframe\">\n",
       "  <thead>\n",
       "    <tr style=\"text-align: right;\">\n",
       "      <th></th>\n",
       "      <th>0</th>\n",
       "      <th>1</th>\n",
       "      <th>2</th>\n",
       "      <th>3</th>\n",
       "      <th>4</th>\n",
       "      <th>5</th>\n",
       "    </tr>\n",
       "  </thead>\n",
       "  <tbody>\n",
       "    <tr>\n",
       "      <th>0</th>\n",
       "      <td>2.203633</td>\n",
       "      <td>-0.340146</td>\n",
       "      <td>0.058512</td>\n",
       "      <td>0.274330</td>\n",
       "      <td>-0.595797</td>\n",
       "      <td>-0.832253</td>\n",
       "    </tr>\n",
       "    <tr>\n",
       "      <th>1</th>\n",
       "      <td>-0.278873</td>\n",
       "      <td>-0.912651</td>\n",
       "      <td>-0.709737</td>\n",
       "      <td>-1.125082</td>\n",
       "      <td>-0.620380</td>\n",
       "      <td>1.625929</td>\n",
       "    </tr>\n",
       "    <tr>\n",
       "      <th>2</th>\n",
       "      <td>-0.402999</td>\n",
       "      <td>1.054751</td>\n",
       "      <td>0.939378</td>\n",
       "      <td>0.125708</td>\n",
       "      <td>0.326064</td>\n",
       "      <td>-0.217708</td>\n",
       "    </tr>\n",
       "    <tr>\n",
       "      <th>3</th>\n",
       "      <td>-0.527124</td>\n",
       "      <td>-0.797031</td>\n",
       "      <td>-0.505601</td>\n",
       "      <td>-0.648285</td>\n",
       "      <td>-0.362259</td>\n",
       "      <td>-0.832253</td>\n",
       "    </tr>\n",
       "    <tr>\n",
       "      <th>4</th>\n",
       "      <td>-0.402999</td>\n",
       "      <td>1.343800</td>\n",
       "      <td>1.058441</td>\n",
       "      <td>0.489071</td>\n",
       "      <td>-0.128721</td>\n",
       "      <td>-0.832253</td>\n",
       "    </tr>\n",
       "    <tr>\n",
       "      <th>...</th>\n",
       "      <td>...</td>\n",
       "      <td>...</td>\n",
       "      <td>...</td>\n",
       "      <td>...</td>\n",
       "      <td>...</td>\n",
       "      <td>...</td>\n",
       "    </tr>\n",
       "    <tr>\n",
       "      <th>6829</th>\n",
       "      <td>0.093503</td>\n",
       "      <td>1.026778</td>\n",
       "      <td>0.927143</td>\n",
       "      <td>-1.450028</td>\n",
       "      <td>-0.288510</td>\n",
       "      <td>0.396838</td>\n",
       "    </tr>\n",
       "    <tr>\n",
       "      <th>6830</th>\n",
       "      <td>-0.899500</td>\n",
       "      <td>0.463598</td>\n",
       "      <td>0.646623</td>\n",
       "      <td>-0.088923</td>\n",
       "      <td>-0.153304</td>\n",
       "      <td>-0.832253</td>\n",
       "    </tr>\n",
       "    <tr>\n",
       "      <th>6831</th>\n",
       "      <td>-0.899500</td>\n",
       "      <td>2.138221</td>\n",
       "      <td>1.331786</td>\n",
       "      <td>1.371840</td>\n",
       "      <td>-0.522048</td>\n",
       "      <td>-0.832253</td>\n",
       "    </tr>\n",
       "    <tr>\n",
       "      <th>6832</th>\n",
       "      <td>-0.154748</td>\n",
       "      <td>-0.345741</td>\n",
       "      <td>0.053091</td>\n",
       "      <td>-0.831141</td>\n",
       "      <td>-1.112039</td>\n",
       "      <td>-0.217708</td>\n",
       "    </tr>\n",
       "    <tr>\n",
       "      <th>6833</th>\n",
       "      <td>-0.899500</td>\n",
       "      <td>-1.179323</td>\n",
       "      <td>-1.407711</td>\n",
       "      <td>0.055033</td>\n",
       "      <td>-0.030389</td>\n",
       "      <td>-0.832253</td>\n",
       "    </tr>\n",
       "  </tbody>\n",
       "</table>\n",
       "<p>6834 rows × 6 columns</p>\n",
       "</div>"
      ],
      "text/plain": [
       "             0         1         2         3         4         5\n",
       "0     2.203633 -0.340146  0.058512  0.274330 -0.595797 -0.832253\n",
       "1    -0.278873 -0.912651 -0.709737 -1.125082 -0.620380  1.625929\n",
       "2    -0.402999  1.054751  0.939378  0.125708  0.326064 -0.217708\n",
       "3    -0.527124 -0.797031 -0.505601 -0.648285 -0.362259 -0.832253\n",
       "4    -0.402999  1.343800  1.058441  0.489071 -0.128721 -0.832253\n",
       "...        ...       ...       ...       ...       ...       ...\n",
       "6829  0.093503  1.026778  0.927143 -1.450028 -0.288510  0.396838\n",
       "6830 -0.899500  0.463598  0.646623 -0.088923 -0.153304 -0.832253\n",
       "6831 -0.899500  2.138221  1.331786  1.371840 -0.522048 -0.832253\n",
       "6832 -0.154748 -0.345741  0.053091 -0.831141 -1.112039 -0.217708\n",
       "6833 -0.899500 -1.179323 -1.407711  0.055033 -0.030389 -0.832253\n",
       "\n",
       "[6834 rows x 6 columns]"
      ]
     },
     "execution_count": 13,
     "metadata": {},
     "output_type": "execute_result"
    }
   ],
   "source": [
    "normalized_df # Final normalized inputs"
   ]
  },
  {
   "cell_type": "markdown",
   "metadata": {},
   "source": [
    "Need to find out the mean and standard deviation of each input variable to generate a conditional distribution for the CGAN"
   ]
  },
  {
   "cell_type": "code",
   "execution_count": 14,
   "metadata": {
    "executionInfo": {
     "elapsed": 14,
     "status": "ok",
     "timestamp": 1715698034628,
     "user": {
      "displayName": "Samarth K J ce22b099",
      "userId": "00126802875607193725"
     },
     "user_tz": -330
    },
    "id": "IqvR6HuZNOKF"
   },
   "outputs": [],
   "source": [
    "cond = []"
   ]
  },
  {
   "cell_type": "markdown",
   "metadata": {},
   "source": [
    "### 3.1 Visualize and Extract Data"
   ]
  },
  {
   "cell_type": "code",
   "execution_count": 15,
   "metadata": {
    "colab": {
     "base_uri": "https://localhost:8080/",
     "height": 467
    },
    "executionInfo": {
     "elapsed": 1170,
     "status": "ok",
     "timestamp": 1715698035784,
     "user": {
      "displayName": "Samarth K J ce22b099",
      "userId": "00126802875607193725"
     },
     "user_tz": -330
    },
    "id": "lxGRKQjPNOKF",
    "outputId": "dd6b4114-3fea-473e-cfcd-cb6f5106a0ba"
   },
   "outputs": [
    {
     "name": "stdout",
     "output_type": "stream",
     "text": [
      "-1.559575802809702e-17\n",
      "1.0000000000000122\n"
     ]
    },
    {
     "data": {
      "image/png": "[encoded data removed]",
      "text/plain": [
       "<Figure size 640x480 with 1 Axes>"
      ]
     },
     "metadata": {},
     "output_type": "display_data"
    }
   ],
   "source": [
    "# Distribution of the first column\n",
    "plt.hist(normalized_df[0], bins=100)\n",
    "clear_output(wait=True)\n",
    "print(np.mean(normalized_df[0]))\n",
    "print(np.std(normalized_df[0]))\n",
    "cond.append((np.mean(normalized_df[0]), np.std(normalized_df[0])))"
   ]
  },
  {
   "cell_type": "code",
   "execution_count": 16,
   "metadata": {
    "colab": {
     "base_uri": "https://localhost:8080/",
     "height": 467
    },
    "executionInfo": {
     "elapsed": 601,
     "status": "ok",
     "timestamp": 1715698036379,
     "user": {
      "displayName": "Samarth K J ce22b099",
      "userId": "00126802875607193725"
     },
     "user_tz": -330
    },
    "id": "GbwwrplCNOKF",
    "outputId": "24bf7f82-d7b1-428b-fb3d-19ac00e2f802"
   },
   "outputs": [
    {
     "name": "stdout",
     "output_type": "stream",
     "text": [
      "5.198586009365673e-18\n",
      "0.9999999999999983\n"
     ]
    },
    {
     "data": {
      "image/png": "[encoded data removed]",
      "text/plain": [
       "<Figure size 640x480 with 1 Axes>"
      ]
     },
     "metadata": {},
     "output_type": "display_data"
    }
   ],
   "source": [
    "# Distribution of the second column\n",
    "plt.hist(normalized_df[1], bins=100)\n",
    "clear_output(wait=True)\n",
    "print(np.mean(normalized_df[1]))\n",
    "print(np.std(normalized_df[1]))\n",
    "cond.append((np.mean(normalized_df[1]), np.std(normalized_df[1])))"
   ]
  },
  {
   "cell_type": "code",
   "execution_count": 17,
   "metadata": {
    "colab": {
     "base_uri": "https://localhost:8080/",
     "height": 467
    },
    "executionInfo": {
     "elapsed": 9,
     "status": "ok",
     "timestamp": 1715698036380,
     "user": {
      "displayName": "Samarth K J ce22b099",
      "userId": "00126802875607193725"
     },
     "user_tz": -330
    },
    "id": "TDoqHXBVNOKF",
    "outputId": "e1b44674-9bfd-428b-de0d-d696d5b4e450"
   },
   "outputs": [
    {
     "name": "stdout",
     "output_type": "stream",
     "text": [
      "1.0397172018731346e-18\n",
      "1.0000000000000002\n"
     ]
    },
    {
     "data": {
      "image/png": "[encoded data removed]",
      "text/plain": [
       "<Figure size 640x480 with 1 Axes>"
      ]
     },
     "metadata": {},
     "output_type": "display_data"
    }
   ],
   "source": [
    "# Distribution of the third column\n",
    "plt.hist(normalized_df[2], bins=100)\n",
    "clear_output(wait=True)\n",
    "print(np.mean(normalized_df[2]))\n",
    "print(np.std(normalized_df[2]))\n",
    "cond.append((np.mean(normalized_df[2]), np.std(normalized_df[2])))"
   ]
  },
  {
   "cell_type": "code",
   "execution_count": 18,
   "metadata": {
    "colab": {
     "base_uri": "https://localhost:8080/",
     "height": 467
    },
    "executionInfo": {
     "elapsed": 560,
     "status": "ok",
     "timestamp": 1715698036934,
     "user": {
      "displayName": "Samarth K J ce22b099",
      "userId": "00126802875607193725"
     },
     "user_tz": -330
    },
    "id": "cOTFvTtaNOKG",
    "outputId": "c4b49114-91ba-4e8d-d130-462ac95751a2"
   },
   "outputs": [
    {
     "name": "stdout",
     "output_type": "stream",
     "text": [
      "-4.262840527679852e-17\n",
      "1.000000000000002\n"
     ]
    },
    {
     "data": {
      "image/png": "[encoded data removed]",
      "text/plain": [
       "<Figure size 640x480 with 1 Axes>"
      ]
     },
     "metadata": {},
     "output_type": "display_data"
    }
   ],
   "source": [
    "# Distribution of the fourth column\n",
    "plt.hist(normalized_df[3], bins=100)\n",
    "clear_output(wait=True)\n",
    "print(np.mean(normalized_df[3]))\n",
    "print(np.std(normalized_df[3]))\n",
    "cond.append((np.mean(normalized_df[3]), np.std(normalized_df[3])))"
   ]
  },
  {
   "cell_type": "code",
   "execution_count": 19,
   "metadata": {
    "colab": {
     "base_uri": "https://localhost:8080/",
     "height": 467
    },
    "executionInfo": {
     "elapsed": 932,
     "status": "ok",
     "timestamp": 1715698037860,
     "user": {
      "displayName": "Samarth K J ce22b099",
      "userId": "00126802875607193725"
     },
     "user_tz": -330
    },
    "id": "l2_uAcy4NOKH",
    "outputId": "6fb4d769-7416-4dc6-c7e7-81338ac227d4"
   },
   "outputs": [
    {
     "name": "stdout",
     "output_type": "stream",
     "text": [
      "-4.678727408429106e-17\n",
      "0.999999999999998\n"
     ]
    },
    {
     "data": {
      "image/png": "[encoded data removed]",
      "text/plain": [
       "<Figure size 640x480 with 1 Axes>"
      ]
     },
     "metadata": {},
     "output_type": "display_data"
    }
   ],
   "source": [
    "# Distribution of the fourth column\n",
    "plt.hist(normalized_df[4], bins=100)\n",
    "clear_output(wait=True)\n",
    "print(np.mean(normalized_df[4]))\n",
    "print(np.std(normalized_df[4]))\n",
    "cond.append((np.mean(normalized_df[4]), np.std(normalized_df[4])))"
   ]
  },
  {
   "cell_type": "code",
   "execution_count": 20,
   "metadata": {
    "colab": {
     "base_uri": "https://localhost:8080/",
     "height": 467
    },
    "executionInfo": {
     "elapsed": 10,
     "status": "ok",
     "timestamp": 1715698037861,
     "user": {
      "displayName": "Samarth K J ce22b099",
      "userId": "00126802875607193725"
     },
     "user_tz": -330
    },
    "id": "uorjRCjnNOKH",
    "outputId": "e72b64f4-179d-4ecb-835d-559c132518b3"
   },
   "outputs": [
    {
     "name": "stdout",
     "output_type": "stream",
     "text": [
      "-5.198586009365673e-19\n",
      "0.9999999999999782\n"
     ]
    },
    {
     "data": {
      "image/png": "[encoded data removed]",
      "text/plain": [
       "<Figure size 640x480 with 1 Axes>"
      ]
     },
     "metadata": {},
     "output_type": "display_data"
    }
   ],
   "source": [
    "\n",
    "# Distribution of the fifth column\n",
    "plt.hist(normalized_df[5], bins=100)\n",
    "clear_output(wait=True)\n",
    "print(np.mean(normalized_df[5]))\n",
    "print(np.std(normalized_df[5]))\n",
    "cond.append((np.mean(normalized_df[5]), np.std(normalized_df[5])))"
   ]
  },
  {
   "cell_type": "code",
   "execution_count": 21,
   "metadata": {
    "colab": {
     "base_uri": "https://localhost:8080/"
    },
    "executionInfo": {
     "elapsed": 6,
     "status": "ok",
     "timestamp": 1715698037861,
     "user": {
      "displayName": "Samarth K J ce22b099",
      "userId": "00126802875607193725"
     },
     "user_tz": -330
    },
    "id": "4ayqHW1UNOKI",
    "outputId": "34dc5e34-2808-4364-ef67-3739f9e84c83"
   },
   "outputs": [
    {
     "data": {
      "text/plain": [
       "[(np.float64(-1.559575802809702e-17), np.float64(1.0000000000000122)),\n",
       " (np.float64(5.198586009365673e-18), np.float64(0.9999999999999983)),\n",
       " (np.float64(1.0397172018731346e-18), np.float64(1.0000000000000002)),\n",
       " (np.float64(-4.262840527679852e-17), np.float64(1.000000000000002)),\n",
       " (np.float64(-4.678727408429106e-17), np.float64(0.999999999999998)),\n",
       " (np.float64(-5.198586009365673e-19), np.float64(0.9999999999999782))]"
      ]
     },
     "execution_count": 21,
     "metadata": {},
     "output_type": "execute_result"
    }
   ],
   "source": [
    "cond"
   ]
  },
  {
   "cell_type": "code",
   "execution_count": 22,
   "metadata": {
    "executionInfo": {
     "elapsed": 531,
     "status": "ok",
     "timestamp": 1715698038387,
     "user": {
      "displayName": "Samarth K J ce22b099",
      "userId": "00126802875607193725"
     },
     "user_tz": -330
    },
    "id": "TYL9ENPnNOKI"
   },
   "outputs": [],
   "source": [
    "# Generating condition space\n",
    "def condition_generator(conditions):\n",
    "    \"\"\"\n",
    "    Generates condition distribution based on the mean and standard deviation of the\n",
    "    input data.\n",
    "    \"\"\"\n",
    "\n",
    "    condition = []\n",
    "    for tup in conditions:\n",
    "        condition.append(np.random.normal(float(tup[0]), float(tup[1])))\n",
    "    return condition"
   ]
  },
  {
   "cell_type": "code",
   "execution_count": 23,
   "metadata": {
    "colab": {
     "base_uri": "https://localhost:8080/"
    },
    "executionInfo": {
     "elapsed": 19,
     "status": "ok",
     "timestamp": 1715698038388,
     "user": {
      "displayName": "Samarth K J ce22b099",
      "userId": "00126802875607193725"
     },
     "user_tz": -330
    },
    "id": "JTd_3uEaNOKJ",
    "outputId": "39d5a841-33db-4ab3-8604-85bd74cb84fc"
   },
   "outputs": [
    {
     "data": {
      "text/plain": [
       "[-0.5067280247583805,\n",
       " 0.8153264619358712,\n",
       " -0.4300302426891533,\n",
       " -0.8337095573753608,\n",
       " -0.49948045222040455,\n",
       " -0.38763406551889285]"
      ]
     },
     "execution_count": 23,
     "metadata": {},
     "output_type": "execute_result"
    }
   ],
   "source": [
    "condition_generator(cond)"
   ]
  },
  {
   "cell_type": "markdown",
   "metadata": {},
   "source": [
    "### 3.2 Convert Data to Tensors"
   ]
  },
  {
   "cell_type": "code",
   "execution_count": 24,
   "metadata": {
    "executionInfo": {
     "elapsed": 17,
     "status": "ok",
     "timestamp": 1715698038388,
     "user": {
      "displayName": "Samarth K J ce22b099",
      "userId": "00126802875607193725"
     },
     "user_tz": -330
    },
    "id": "Q6xuU_unJg2H"
   },
   "outputs": [
    {
     "name": "stdout",
     "output_type": "stream",
     "text": [
      "Shape of train_dataT: torch.Size([6834, 6])\n",
      "Shape of train_outputT: torch.Size([6834, 56])\n",
      "Shape of test_dataT: torch.Size([1709, 6])\n",
      "Shape of test_outputT: torch.Size([1709, 56])\n"
     ]
    }
   ],
   "source": [
    "train_dataT = torch.tensor(np.array(X_train))\n",
    "train_outputT = torch.tensor(np.array(y_train))\n",
    "test_dataT = torch.tensor(np.array(X_test))\n",
    "test_outputT = torch.tensor(np.array(y_test))\n",
    "\n",
    "print(\"Shape of train_dataT:\", train_dataT.shape)\n",
    "print(\"Shape of train_outputT:\", train_outputT.shape)\n",
    "print(\"Shape of test_dataT:\", test_dataT.shape)\n",
    "print(\"Shape of test_outputT:\", test_outputT.shape)"
   ]
  },
  {
   "cell_type": "markdown",
   "metadata": {},
   "source": [
    "## 4. Define MLPs (Discriminator and Generator)"
   ]
  },
  {
   "cell_type": "markdown",
   "metadata": {
    "_uuid": "ccef848d8bd24db1c12e5fec03cdafcf27468a59",
    "id": "NduCnPAWHVr1"
   },
   "source": [
    "Now let's define the generator and the discriminator, which are simple **MLPs**."
   ]
  },
  {
   "cell_type": "code",
   "execution_count": 28,
   "metadata": {
    "_uuid": "83a994dc0acddf5d2a2ed1b706b88f6e308997dd",
    "collapsed": true,
    "executionInfo": {
     "elapsed": 12,
     "status": "ok",
     "timestamp": 1715698063760,
     "user": {
      "displayName": "Samarth K J ce22b099",
      "userId": "00126802875607193725"
     },
     "user_tz": -330
    },
    "id": "F9zFlOYFHVr4",
    "trusted": true
   },
   "outputs": [],
   "source": [
    "class Discriminator(nn.Module):\n",
    "    def __init__(self):\n",
    "        super().__init__()\n",
    "\n",
    "        self.model = nn.Sequential(\n",
    "            nn.Linear(62, 44),\n",
    "            nn.LeakyReLU(0.2, inplace=True),\n",
    "            nn.Dropout(0.3),\n",
    "            nn.Linear(44, 32),\n",
    "            nn.LeakyReLU(0.2, inplace=True),\n",
    "            nn.Dropout(0.3),\n",
    "            nn.Linear(32, 20),\n",
    "            nn.LeakyReLU(0.2, inplace=True),\n",
    "            nn.Dropout(0.3),\n",
    "            nn.Linear(20, 1),\n",
    "            nn.Sigmoid()\n",
    "        )\n",
    "\n",
    "    def forward(self, x, condition):\n",
    "        combined_input = torch.cat((x, condition), dim=1)\n",
    "        out = self.model(combined_input)\n",
    "        return out"
   ]
  },
  {
   "cell_type": "code",
   "execution_count": null,
   "metadata": {
    "_uuid": "cf8e8720990e3dbd63bc074b340d15ffc15ddd17",
    "collapsed": true,
    "executionInfo": {
     "elapsed": 29,
     "status": "ok",
     "timestamp": 1715698760640,
     "user": {
      "displayName": "Samarth K J ce22b099",
      "userId": "00126802875607193725"
     },
     "user_tz": -330
    },
    "id": "jLyx14CsHVr_",
    "trusted": true
   },
   "outputs": [],
   "source": [
    "class Generator(nn.Module):\n",
    "    def __init__(self):\n",
    "        super().__init__()\n",
    "\n",
    "        self.model = nn.Sequential(\n",
    "            nn.Linear(26, 36),\n",
    "            nn.LeakyReLU(0.2, inplace=True),\n",
    "            nn.Linear(36, 40),\n",
    "            nn.LeakyReLU(0.2, inplace=True),\n",
    "            nn.Linear(40, 50),\n",
    "            nn.LeakyReLU(0.2, inplace=True),\n",
    "            nn.Linear(50, 56)\n",
    "        )\n",
    "\n",
    "    def forward(self, z, labels):\n",
    "        # print(f\"z: {z.shape}, labels: {labels.shape}\")\n",
    "        x = torch.hstack([labels, z]).float()\n",
    "        out = self.model(x)\n",
    "        return out.squeeze() # This is the output of the generator"
   ]
  },
  {
   "cell_type": "code",
   "execution_count": 30,
   "metadata": {
    "executionInfo": {
     "elapsed": 28,
     "status": "ok",
     "timestamp": 1715698760641,
     "user": {
      "displayName": "Samarth K J ce22b099",
      "userId": "00126802875607193725"
     },
     "user_tz": -330
    },
    "id": "65NTrUloNOKL"
   },
   "outputs": [],
   "source": [
    "generator = Generator().to(device)\n",
    "discriminator = Discriminator().to(device)"
   ]
  },
  {
   "cell_type": "markdown",
   "metadata": {},
   "source": [
    "## 5. Define Training Methodology and Loss"
   ]
  },
  {
   "cell_type": "markdown",
   "metadata": {},
   "source": [
    "Binary Cross Entropy Loss is used as we need to fool Discriminator"
   ]
  },
  {
   "cell_type": "code",
   "execution_count": 32,
   "metadata": {
    "_uuid": "2f3f7aa2d3d961df8623b93b3770b88f83bc77d0",
    "collapsed": true,
    "executionInfo": {
     "elapsed": 28,
     "status": "ok",
     "timestamp": 1715698760641,
     "user": {
      "displayName": "Samarth K J ce22b099",
      "userId": "00126802875607193725"
     },
     "user_tz": -330
    },
    "id": "OrBEr6wwHVsH",
    "trusted": true
   },
   "outputs": [],
   "source": [
    "criterion = nn.BCELoss()\n",
    "# Try values like these initially\n",
    "d_optimizer = torch.optim.Adam(\n",
    "    discriminator.parameters(), lr=2e-4, betas=(0.5, 0.999)\n",
    ")  # Common beta values for GANs\n",
    "g_optimizer = torch.optim.Adam(\n",
    "    generator.parameters(), lr=2e-4, betas=(0.5, 0.999)\n",
    ")"
   ]
  },
  {
   "cell_type": "code",
   "execution_count": 33,
   "metadata": {},
   "outputs": [],
   "source": [
    "latent_dim = 20"
   ]
  },
  {
   "cell_type": "code",
   "execution_count": 34,
   "metadata": {},
   "outputs": [],
   "source": [
    "def calculate_smoothness_penalty(output_sequence, penalty_type=\"l2\"):\n",
    "    \"\"\"\n",
    "    Calculates a penalty based on the difference between adjacent elements.\n",
    "\n",
    "    Args:\n",
    "        output_sequence (torch.Tensor): Tensor of shape [batch_size, sequence_length].\n",
    "        penalty_type (str): 'l1' for Mean Absolute Difference, 'l2' for Mean Squared Difference.\n",
    "\n",
    "    Returns:\n",
    "        torch.Tensor: A scalar tensor representing the penalty.\n",
    "    \"\"\"\n",
    "\n",
    "\n",
    "    if (\n",
    "        output_sequence.shape[1] <= 1\n",
    "    ):  # Cannot calculate diff for sequence length 0 or 1\n",
    "        return torch.tensor(0.0, device=output_sequence.device)\n",
    "\n",
    "    # Calculate differences between adjacent elements along the sequence dimension\n",
    "    # diff shape: [batch_size, sequence_length - 1]\n",
    "    diff = output_sequence[:, 1:] - output_sequence[:, :-1]\n",
    "\n",
    "    if penalty_type == \"l1\":\n",
    "        penalty = torch.mean(torch.abs(diff))\n",
    "    elif penalty_type == \"l2\":\n",
    "        penalty = torch.mean(diff**2)\n",
    "    else:\n",
    "        raise ValueError(\"Invalid penalty_type. Choose 'l1' or 'l2'.\")\n",
    "\n",
    "    return penalty"
   ]
  },
  {
   "cell_type": "code",
   "execution_count": null,
   "metadata": {
    "_uuid": "b976b9831f73e1d5da270c4050d380f4fe141933",
    "collapsed": true,
    "executionInfo": {
     "elapsed": 27,
     "status": "ok",
     "timestamp": 1715698760641,
     "user": {
      "displayName": "Samarth K J ce22b099",
      "userId": "00126802875607193725"
     },
     "user_tz": -330
    },
    "id": "FE9ssh8bHVsH",
    "trusted": true
   },
   "outputs": [],
   "source": [
    "def generator_train_step(batch_size, discriminator, generator, g_optimizer, criterion, latent_dim, real_arrays, real_labels, lambda_=0.05):\n",
    "    g_optimizer.zero_grad()\n",
    "\n",
    "    current_batch_size = real_arrays.shape[0]\n",
    "\n",
    "    # Generate random noise\n",
    "    z = torch.randn(current_batch_size, latent_dim, device=device)\n",
    "\n",
    "    # Get real labels from data\n",
    "    real_inputs = real_arrays.to(device).float()\n",
    "\n",
    "    # Generate fake arrays\n",
    "    fake_labels = generator(z, real_inputs)\n",
    "    # Obtain real arrays from data\n",
    "    real_labels = real_labels.to(device).float()\n",
    "\n",
    "    # Calculate mean squared error loss\n",
    "    mse_loss = torch.mean((real_labels - fake_labels) ** 2)\n",
    "    # Calculate smoothness penalty\n",
    "    smoothness_penalty = calculate_smoothness_penalty(fake_labels)\n",
    "\n",
    "    # Calculate discriminator validity\n",
    "    validity = discriminator(fake_labels, real_inputs)\n",
    "\n",
    "    # Calculate generator loss\n",
    "    valid_targets = torch.ones(current_batch_size, 1, device=device)\n",
    "    g_loss = criterion(validity, valid_targets)\n",
    "\n",
    "    total_g_loss = g_loss + lambda_ * 0.05 * smoothness_penalty + 1 * lambda_ * mse_loss\n",
    "\n",
    "    # Backpropagation\n",
    "    total_g_loss.backward()\n",
    "    g_optimizer.step()\n",
    "\n",
    "    return total_g_loss.item()"
   ]
  },
  {
   "cell_type": "code",
   "execution_count": 36,
   "metadata": {
    "_uuid": "ce7aa31b594067c3e3c006944ca16e7cba2c5ed4",
    "collapsed": true,
    "executionInfo": {
     "elapsed": 18,
     "status": "ok",
     "timestamp": 1715698760642,
     "user": {
      "displayName": "Samarth K J ce22b099",
      "userId": "00126802875607193725"
     },
     "user_tz": -330
    },
    "id": "DWyf6nKgHVsI",
    "trusted": true
   },
   "outputs": [],
   "source": [
    "def discriminator_train_step(\n",
    "    batch_size,\n",
    "    discriminator,\n",
    "    generator,\n",
    "    d_optimizer,\n",
    "    criterion,\n",
    "    real_labels,\n",
    "    real_arrays,\n",
    "):\n",
    "    d_optimizer.zero_grad()\n",
    "\n",
    "    # Real data\n",
    "    real_labels = real_labels.to(device).float()\n",
    "    real_arrays = real_arrays.to(device).float()\n",
    "\n",
    "    current_real_batch_size = real_arrays.size(0)\n",
    "\n",
    "    # Real loss\n",
    "    real_validity = discriminator(real_arrays, real_labels)\n",
    "    real_targets = torch.ones(current_real_batch_size, 1, device=device)\n",
    "    real_loss = criterion(real_validity, real_targets)\n",
    "\n",
    "    # Fake data\n",
    "    z = torch.randn(batch_size, latent_dim, device=device)\n",
    "    fake_labels = torch.tensor(\n",
    "        [condition_generator(cond) for _ in range(batch_size)],\n",
    "        dtype=torch.float32,\n",
    "        device=device,\n",
    "    )\n",
    "    fake_arrays = generator(z, fake_labels)\n",
    "\n",
    "    # Fake loss\n",
    "    fake_validity = discriminator(fake_arrays.detach(), fake_labels)\n",
    "    fake_targets = torch.zeros(batch_size, 1, device=device)\n",
    "    fake_loss = criterion(fake_validity, fake_targets)\n",
    "\n",
    "    d_loss = real_loss + fake_loss\n",
    "    d_loss.backward()\n",
    "\n",
    "    d_optimizer.step()\n",
    "\n",
    "    return d_loss.item()"
   ]
  },
  {
   "cell_type": "code",
   "execution_count": null,
   "metadata": {
    "executionInfo": {
     "elapsed": 16,
     "status": "ok",
     "timestamp": 1715698760642,
     "user": {
      "displayName": "Samarth K J ce22b099",
      "userId": "00126802875607193725"
     },
     "user_tz": -330
    },
    "id": "7Fw0wV_2NOKS"
   },
   "outputs": [
    {
     "name": "stdout",
     "output_type": "stream",
     "text": [
      "Shape of train_data_tensor: torch.Size([6834, 6])\n",
      "Shape of train_output_tensor: torch.Size([6834, 56])\n",
      "Number of batches in data_loader_list: 214\n"
     ]
    },
    {
     "name": "stderr",
     "output_type": "stream",
     "text": [
      "/var/folders/wn/9sqs4mnj75q_7mfd16s9n6sm0000gn/T/ipykernel_26214/625331914.py:4: UserWarning: To copy construct from a tensor, it is recommended to use sourceTensor.detach().clone() or sourceTensor.detach().clone().requires_grad_(True), rather than torch.tensor(sourceTensor).\n",
      "  train_data_tensor = torch.tensor(train_dataT, dtype=torch.float32)\n",
      "/var/folders/wn/9sqs4mnj75q_7mfd16s9n6sm0000gn/T/ipykernel_26214/625331914.py:5: UserWarning: To copy construct from a tensor, it is recommended to use sourceTensor.detach().clone() or sourceTensor.detach().clone().requires_grad_(True), rather than torch.tensor(sourceTensor).\n",
      "  train_output_tensor = torch.tensor(train_outputT, dtype=torch.float32)\n"
     ]
    }
   ],
   "source": [
    "batch_size = 64\n",
    "\n",
    "# Convert transposed arrays to tensors\n",
    "train_data_tensor = torch.tensor(train_dataT, dtype=torch.float32)\n",
    "train_output_tensor = torch.tensor(train_outputT, dtype=torch.float32)\n",
    "\n",
    "print(\"Shape of train_data_tensor:\", train_data_tensor.shape)\n",
    "print(\"Shape of train_output_tensor:\", train_output_tensor.shape)\n",
    "\n",
    "# Create the data_loader using list comprehension (works now because tensors are samples-first)\n",
    "data_loader = [\n",
    "    (train_data_tensor[i : i + batch_size], train_output_tensor[i : i + batch_size])\n",
    "    for i in range(0, len(train_data_tensor), batch_size)\n",
    "]\n",
    "\n",
    "print(f\"Number of batches in data_loader_list: {len(data_loader)}\")"
   ]
  },
  {
   "cell_type": "code",
   "execution_count": 38,
   "metadata": {},
   "outputs": [],
   "source": [
    "period_arr = [i for i in range(0, len(train_labels.columns))]"
   ]
  },
  {
   "cell_type": "markdown",
   "metadata": {},
   "source": [
    "## 6. Training"
   ]
  },
  {
   "cell_type": "code",
   "execution_count": null,
   "metadata": {
    "_uuid": "f3c434a2dbc65b30dffa090ba0b51be3588763c0",
    "colab": {
     "base_uri": "https://localhost:8080/",
     "height": 1000
    },
    "collapsed": true,
    "executionInfo": {
     "elapsed": 2020641,
     "status": "ok",
     "timestamp": 1715700781950,
     "user": {
      "displayName": "Samarth K J ce22b099",
      "userId": "00126802875607193725"
     },
     "user_tz": -330
    },
    "id": "zWS-63hsHVsI",
    "outputId": "70ed4cc3-eff1-4493-b36f-2e7024796e9a",
    "trusted": true
   },
   "outputs": [],
   "source": [
    "n_critic = 3  # Number of discriminator updates per generator update\n",
    "num_epochs = 250\n",
    "display_step = 500\n",
    "\n",
    "for epoch in range(num_epochs):\n",
    "    print(f\"Starting epoch {epoch}...\")\n",
    "\n",
    "    for i, (inp, out) in enumerate(data_loader):\n",
    "        inp, out = inp.to(device), out.to(device)\n",
    "\n",
    "        # Train the discriminator multiple times\n",
    "        for _ in range(n_critic):\n",
    "            d_loss = discriminator_train_step(\n",
    "                batch_size, discriminator, generator, d_optimizer, criterion, inp, out\n",
    "            )\n",
    "\n",
    "        # Train the generator once\n",
    "        g_loss = generator_train_step(\n",
    "            batch_size, discriminator, generator, g_optimizer, criterion, latent_dim, inp, out\n",
    "        )\n",
    "\n",
    "\n",
    "    print(f\"g_loss: {g_loss:.4f}, d_loss: {d_loss:.4f}\")\n",
    "\n",
    "    # Evaluation and plotting\n",
    "    generator.eval()\n",
    "    with torch.no_grad():\n",
    "        z = torch.randn(1, latent_dim, device=device)\n",
    "        random_int = random.randint(0, len(test_dataT) - 1)\n",
    "        condition = test_dataT[random_int]\n",
    "        label = torch.tensor(\n",
    "            test_dataT[random_int], dtype=torch.float32, device=device\n",
    "        ).unsqueeze(0)\n",
    "\n",
    "        generated = generator(z, label).cpu().numpy().flatten()\n",
    "        real = test_outputT[random_int]\n",
    "\n",
    "        if epoch % 50 == 0:\n",
    "            plt.plot(period_arr, generated, label=\"Predicted\")\n",
    "            plt.plot(period_arr, real, label=\"Real\")\n",
    "            plt.xlabel(\"Frequencies\")\n",
    "            plt.ylabel(\"Ground Acceleration\")\n",
    "            plt.title(f\"Predicted Ground Accelerations for record {random_int}\")\n",
    "            plt.legend()\n",
    "            plt.show()\n",
    "\n",
    "        if epoch % 100 == 0 and epoch != 0:\n",
    "            torch.save(generator.state_dict(), f\"{CGAN_GENERATOR_PATH}_epoch_{epoch}\")\n",
    "            torch.save(\n",
    "                discriminator.state_dict(), f\"{CGAN_DISCRIMINATOR_PATH}_epoch_{epoch}\"\n",
    "            )\n",
    "\n",
    "    generator.train()"
   ]
  },
  {
   "cell_type": "markdown",
   "metadata": {
    "_uuid": "d87a0e53fb451a6cab5ad07f06d45eb8387644aa",
    "id": "ra-FO6YKHVsJ"
   },
   "source": [
    "## 7. Results"
   ]
  },
  {
   "cell_type": "code",
   "execution_count": null,
   "metadata": {
    "_uuid": "7a143c8f12edf5fbe6e607185215fad39f8b932b",
    "colab": {
     "base_uri": "https://localhost:8080/",
     "height": 472
    },
    "collapsed": true,
    "executionInfo": {
     "elapsed": 43,
     "status": "ok",
     "timestamp": 1715700781951,
     "user": {
      "displayName": "Samarth K J ce22b099",
      "userId": "00126802875607193725"
     },
     "user_tz": -330
    },
    "id": "O5F549pfHVsT",
    "outputId": "d899afb0-3540-4b59-fb7a-b9cc54134584",
    "trusted": true
   },
   "outputs": [
    {
     "data": {
      "image/png": "[encoded data removed]",
      "text/plain": [
       "<Figure size 640x480 with 1 Axes>"
      ]
     },
     "metadata": {},
     "output_type": "display_data"
    },
    {
     "name": "stdout",
     "output_type": "stream",
     "text": [
      "Mean Absolute Error: 0.6520\n",
      "R-squared: 0.9116\n"
     ]
    }
   ],
   "source": [
    "def plot_prediction(index, z=None):\n",
    "    generator.eval()\n",
    "\n",
    "    with torch.no_grad():  # Disable gradient calculation for inference\n",
    "        if z is None:\n",
    "            latent_dim = 20\n",
    "            z = torch.randn(1, latent_dim).to(device)\n",
    "        else:\n",
    "            z = z.to(device)\n",
    "\n",
    "        conditions = test_dataT[index].unsqueeze(0).to(torch.float32).to(device)\n",
    "        real_tensor = test_outputT[index].unsqueeze(0).to(torch.float32).to(device)\n",
    "\n",
    "        # Generate the prediction\n",
    "        pred_tensor = generator(z, conditions)\n",
    "\n",
    "        # Detach from graph and move to CPU for plotting\n",
    "        pred = pred_tensor.detach().cpu().numpy().squeeze()\n",
    "        real = real_tensor.detach().cpu().numpy().squeeze()\n",
    "\n",
    "        # --- FIX: REMOVE np.exp() ---\n",
    "        plt.plot(period_arr, pred, label=\"Predicted\")\n",
    "        plt.plot(period_arr, real, label=\"Real\")\n",
    "        # ---------------------------\n",
    "\n",
    "        plt.xlabel(\"Period(s)\")\n",
    "        plt.ylabel(\"RSA (g)\")  # The label is now correct\n",
    "        plt.title(f\"Predicted vs. Real Response Spectrum (Index: {index})\")\n",
    "        plt.legend()\n",
    "        plt.grid(True, which=\"both\", linestyle=\"--\", linewidth=0.5)\n",
    "        plt.show()\n",
    "\n",
    "        mae = torch.mean(torch.abs(pred_tensor - real_tensor))\n",
    "        print(f\"Mean Absolute Error: {mae.item():.4f}\")\n",
    "        print(\n",
    "            f\"R-squared: {1 - torch.sum((test_outputT.to(torch.float32).to(device) - generator(torch.randn(len(test_dataT), 20).to(device), test_dataT.to(torch.float32).to(device))) ** 2) / torch.sum((test_outputT.to(torch.float32).to(device) - test_outputT.to(torch.float32).to(device).mean()) ** 2):.4f}\"\n",
    "        )\n",
    "\n",
    "    # It's good practice to set the model back to train mode if you continue training later\n",
    "    generator.train()\n",
    "\n",
    "plot_prediction(np.random.randint(0, len(test_dataT) - 1))"
   ]
  },
  {
   "cell_type": "code",
   "execution_count": 80,
   "metadata": {},
   "outputs": [
    {
     "name": "stdout",
     "output_type": "stream",
     "text": [
      "R-squared on entire test set: 0.9121\n"
     ]
    }
   ],
   "source": [
    "import torch\n",
    "\n",
    "generator.eval()\n",
    "\n",
    "with torch.no_grad():\n",
    "    # 3. Prepare all test data and generate predictions\n",
    "    conditions = test_dataT.to(torch.float32).to(device)\n",
    "    y_true = test_outputT.to(torch.float32).to(device)\n",
    "    z = torch.randn(len(test_dataT), latent_dim).to(device)\n",
    "    y_pred = generator(z, conditions)\n",
    "\n",
    "    # 4. Calculate R-squared and print\n",
    "    ss_res = torch.sum((y_true - y_pred) ** 2)\n",
    "    ss_tot = torch.sum((y_true - y_true.mean()) ** 2)\n",
    "    r_squared = 1 - (ss_res / ss_tot)\n",
    "\n",
    "    print(f\"R-squared on entire test set: {r_squared.item():.4f}\")\n"
   ]
  },
  {
   "cell_type": "code",
   "execution_count": 72,
   "metadata": {
    "executionInfo": {
     "elapsed": 7,
     "status": "aborted",
     "timestamp": 1715695163487,
     "user": {
      "displayName": "Samarth K J ce22b099",
      "userId": "00126802875607193725"
     },
     "user_tz": -330
    },
    "id": "5Hspu7MtNOKT"
   },
   "outputs": [],
   "source": [
    "torch.save(generator.state_dict(), CGAN_GENERATOR_PATH + \"_l_2_penalty_incl_mse\")\n",
    "torch.save(discriminator.state_dict(), CGAN_DISCRIMINATOR_PATH + \"_l_2_penalty_incl_mse\")"
   ]
  },
  {
   "cell_type": "code",
   "execution_count": null,
   "metadata": {},
   "outputs": [],
   "source": []
  }
 ],
 "metadata": {
  "accelerator": "GPU",
  "colab": {
   "gpuType": "T4",
   "provenance": []
  },
  "kernelspec": {
   "display_name": "ai",
   "language": "python",
   "name": "python3"
  },
  "language_info": {
   "codemirror_mode": {
    "name": "ipython",
    "version": 3
   },
   "file_extension": ".py",
   "mimetype": "text/x-python",
   "name": "python",
   "nbconvert_exporter": "python",
   "pygments_lexer": "ipython3",
   "version": "3.9.6"
  }
 },
 "nbformat": 4,
 "nbformat_minor": 0
}
